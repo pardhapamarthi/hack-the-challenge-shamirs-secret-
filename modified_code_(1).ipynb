{
  "nbformat": 4,
  "nbformat_minor": 0,
  "metadata": {
    "colab": {
      "provenance": []
    },
    "kernelspec": {
      "name": "python3",
      "display_name": "Python 3"
    },
    "language_info": {
      "name": "python"
    }
  },
  "cells": [
    {
      "cell_type": "code",
      "execution_count": 1,
      "metadata": {
        "colab": {
          "base_uri": "https://localhost:8080/"
        },
        "id": "x_reHxyV_kt4",
        "outputId": "3daf2348-f179-41ef-a9a4-bd4f787f443e"
      },
      "outputs": [
        {
          "output_type": "stream",
          "name": "stdout",
          "text": [
            "Original Secret: 11637925\n",
            "Shares: (34554, 77077516377823), (23481, 35593019144107), (24083, 37441459955681), (88483, 505417184482481), (10956, 7748864464057)\n",
            "Combining shares: (10956, 7748864464057), (23481, 35593019144107), (88483, 505417184482481)\n",
            "Reconstructed secret: 11637925\n"
          ]
        }
      ],
      "source": [
        "import random\n",
        "from math import ceil\n",
        "from decimal import Decimal\n",
        "\n",
        "FIELD_SIZE = 10**5\n",
        "\n",
        "\n",
        "def reconstruct_secret(shares):\n",
        "    \"\"\"\n",
        "    Combines individual shares (points on graph)\n",
        "    using Lagranges interpolation.\n",
        "\n",
        "    shares is a list of points (x, y) belonging to a\n",
        "    polynomial with a constant of our key.\n",
        "    \"\"\"\n",
        "    sums = 0\n",
        "    prod_arr = []\n",
        "\n",
        "    for j, share_j in enumerate(shares):\n",
        "        xj, yj = share_j\n",
        "        prod = Decimal(1)\n",
        "\n",
        "        for i, share_i in enumerate(shares):\n",
        "            xi, _ = share_i\n",
        "            if i != j:\n",
        "                prod *= Decimal(Decimal(xi)/(xi-xj))\n",
        "\n",
        "        prod *= yj\n",
        "        sums += Decimal(prod)\n",
        "\n",
        "    return int(round(Decimal(sums), 0))\n",
        "\n",
        "\n",
        "def polynom(x, coefficients):\n",
        "    \"\"\"\n",
        "    This generates a single point on the graph of given polynomial\n",
        "    in x. The polynomial is given by the list of coefficients.\n",
        "    \"\"\"\n",
        "    point = 0\n",
        "    # Loop through reversed list, so that indices from enumerate match the\n",
        "    # actual coefficient indices\n",
        "    for coefficient_index, coefficient_value in enumerate(coefficients[::-1]):\n",
        "        point += x ** coefficient_index * coefficient_value\n",
        "    return point\n",
        "\n",
        "\n",
        "def coeff(t, secret):\n",
        "    \"\"\"\n",
        "    Randomly generate a list of coefficients for a polynomial with\n",
        "    degree of t - 1, whose constant is secret.\n",
        "\n",
        "    For example with a 3rd degree coefficient like this:\n",
        "        3x^3 + 4x^2 + 18x + 554\n",
        "\n",
        "        554 is the secret, and the polynomial degree + 1 is\n",
        "        how many points are needed to recover this secret.\n",
        "        (in this case it's 4 points).\n",
        "    \"\"\"\n",
        "    coeff = [random.randrange(0, FIELD_SIZE) for _ in range(t - 1)]\n",
        "    coeff.append(secret)\n",
        "    return coeff\n",
        "\n",
        "\n",
        "def generate_shares(n, m, secret):\n",
        "    \"\"\"\n",
        "    Split given secret into n shares with minimum threshold\n",
        "    of m shares to recover this secret, using SSS algorithm.\n",
        "    \"\"\"\n",
        "    coefficients = coeff(m, secret)\n",
        "    shares = []\n",
        "\n",
        "    for i in range(1, n+1):\n",
        "        x = random.randrange(1, FIELD_SIZE)\n",
        "        shares.append((x, polynom(x, coefficients)))\n",
        "\n",
        "    return shares\n",
        "\n",
        "# Driver code\n",
        "if __name__ == '__main__':\n",
        "\n",
        "    # (3,5) sharing scheme\n",
        "    t, n = 3, 5\n",
        "    secret = 11637925\n",
        "    print(f'Original Secret: {secret}')\n",
        "\n",
        "    # Phase I: Generation of shares\n",
        "    shares = generate_shares(n, t, secret)\n",
        "    print(f'Shares: {\", \".join(str(share) for share in shares)}')\n",
        "\n",
        "    # Phase II: Secret Reconstruction\n",
        "    # Picking t shares randomly for\n",
        "    # reconstruction\n",
        "    pool = random.sample(shares, t)\n",
        "    print(f'Combining shares: {\", \".join(str(share) for share in pool)}')\n",
        "    print(f'Reconstructed secret: {reconstruct_secret(pool)}')"
      ]
    }
  ]
}